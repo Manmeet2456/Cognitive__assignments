{
 "cells": [
  {
   "cell_type": "code",
   "execution_count": 1,
   "metadata": {},
   "outputs": [
    {
     "name": "stdout",
     "output_type": "stream",
     "text": [
      "Manmeet Singh\n",
      "Manmeet Singh\n",
      "Manmeet Singh\n"
     ]
    }
   ],
   "source": [
    "#Assingment 1.1: WAP to print your name three times\n",
    "print(\"Manmeet Singh\")\n",
    "print(\"Manmeet Singh\")\n",
    "print(\"Manmeet Singh\")"
   ]
  },
  {
   "cell_type": "code",
   "execution_count": 59,
   "metadata": {},
   "outputs": [
    {
     "name": "stdout",
     "output_type": "stream",
     "text": [
      "Addition of 10 ,20 and 30 is 60\n"
     ]
    }
   ],
   "source": [
    "#Assingment 2.1: WAP to add three numbers and print the result.\n",
    "a=10\n",
    "b=20\n",
    "c=30\n",
    "print(f\"Addition of {a} ,{b} and {c} is\",a+b+c)"
   ]
  },
  {
   "cell_type": "code",
   "execution_count": 6,
   "metadata": {},
   "outputs": [
    {
     "name": "stdout",
     "output_type": "stream",
     "text": [
      "It is raining since morning\n"
     ]
    }
   ],
   "source": [
    "#Assingment 2.2: WAP to concatinate three strings and print the result.\n",
    "a=\"It is \"\n",
    "b=\"raining \"\n",
    "c=\"since morning\"\n",
    "print(a+b+c)"
   ]
  },
  {
   "cell_type": "code",
   "execution_count": 7,
   "metadata": {},
   "outputs": [
    {
     "name": "stdout",
     "output_type": "stream",
     "text": [
      "7 X 1 = 7\t9 X 1 = 9\n",
      "7 X 2 = 14\t9 X 2 = 18\n",
      "7 X 3 = 21\t9 X 3 = 27\n",
      "7 X 4 = 28\t9 X 4 = 36\n",
      "7 X 5 = 35\t9 X 5 = 45\n",
      "7 X 6 = 42\t9 X 6 = 54\n",
      "7 X 7 = 49\t9 X 7 = 63\n",
      "7 X 8 = 56\t9 X 8 = 72\n",
      "7 X 9 = 63\t9 X 9 = 81\n",
      "7 X 10 = 70\t9 X 10 = 90\n"
     ]
    }
   ],
   "source": [
    "#Assingment 4.1: WAP to print the table of 7, 9.\n",
    "for i in range(1,11):\n",
    "    print(f\"{7} X {i} = {7*i}\",end=\"\\t\")\n",
    "    print(f\"{9} X {i} = {9*i}\")"
   ]
  },
  {
   "cell_type": "code",
   "execution_count": null,
   "metadata": {},
   "outputs": [
    {
     "name": "stdout",
     "output_type": "stream",
     "text": [
      "10 X 1 = 10\n",
      "10 X 2 = 20\n",
      "10 X 3 = 30\n",
      "10 X 4 = 40\n",
      "10 X 5 = 50\n",
      "10 X 6 = 60\n",
      "10 X 7 = 70\n",
      "10 X 8 = 80\n",
      "10 X 9 = 90\n",
      "10 X 10 = 100\n"
     ]
    }
   ],
   "source": [
    "#Assingment 4.2: WAP to print the table of n and n is given by user.\n",
    "n=int(input(\"Enter the number\"))\n",
    "for i in range(1,11):\n",
    "    print(f\"{n} X {i} = {n*i}\")"
   ]
  },
  {
   "cell_type": "code",
   "execution_count": 15,
   "metadata": {},
   "outputs": [
    {
     "name": "stdout",
     "output_type": "stream",
     "text": [
      "Sum of number 1 to 4 is 10\n"
     ]
    }
   ],
   "source": [
    "#Assingment 4.3: WAP to add all the numbers from 1 to n and n is given by user.\n",
    "n=int(input(\"Enter the number\"))\n",
    "sum=0\n",
    "for i in range(1,n+1):\n",
    "    sum=sum+i\n",
    "print(f\"Sum of number 1 to {n} is\",sum)"
   ]
  },
  {
   "cell_type": "code",
   "execution_count": 45,
   "metadata": {},
   "outputs": [
    {
     "name": "stdout",
     "output_type": "stream",
     "text": [
      "Largest of 1, 2 and 3 is 3\n"
     ]
    }
   ],
   "source": [
    "#Assingment 5.1: WAP to find max amoung three numbers and input from user. [Try max() function]\n",
    "a=int(input(\"Enter the number\"))\n",
    "b=int(input(\"Enter the number\"))\n",
    "c=int(input(\"Enter the number\"))\n",
    "print(f\"Largest of {a}, {b} and {c} is\",max(a,b,c))"
   ]
  },
  {
   "cell_type": "code",
   "execution_count": null,
   "metadata": {},
   "outputs": [
    {
     "name": "stdout",
     "output_type": "stream",
     "text": [
      "Number divisble by 7 and 9 between 1 to 1000: \n",
      "63\n",
      "126\n",
      "189\n",
      "252\n",
      "315\n",
      "378\n",
      "441\n",
      "504\n",
      "567\n",
      "630\n",
      "693\n",
      "756\n",
      "819\n",
      "882\n",
      "945\n"
     ]
    }
   ],
   "source": [
    "#Assingment 5.2: WAP to add all numbers divisible by 7 and 9 from 1 to n and n is given by the user.\n",
    "n=int(input(\"Enter the number\"))\n",
    "print(f\"Number divisble by 7 and 9 from 1 to {n}: \")\n",
    "for i in range(1,n+1):\n",
    "    if(i%7==0 and i%9==0):\n",
    "        print(f\"{i}\")"
   ]
  },
  {
   "cell_type": "code",
   "execution_count": 62,
   "metadata": {},
   "outputs": [
    {
     "name": "stdout",
     "output_type": "stream",
     "text": [
      "Sum of all the Prime numbers from 1 to n are: 17\n"
     ]
    }
   ],
   "source": [
    "#Assingment 5.3: WAP to add all prime numbers from 1 to n and n is given by the user.\n",
    "n=int(input(\"Enter the number\"))\n",
    "print(\"Sum of all the Prime numbers from 1 to n are: \",end=\"\")\n",
    "sum=0\n",
    "for i in range(1,n+1):\n",
    "    count=0\n",
    "    for j in range(1,i+1):\n",
    "        if(i%j==0):\n",
    "            count=count+1\n",
    "    if(count==2):\n",
    "        sum=sum+i\n",
    "print(sum)"
   ]
  },
  {
   "cell_type": "code",
   "execution_count": 50,
   "metadata": {},
   "outputs": [
    {
     "name": "stdout",
     "output_type": "stream",
     "text": [
      "Sum of odd numbers from 1 to 10 is 25\n"
     ]
    }
   ],
   "source": [
    "#Assingment 6.1: WAP using function that add all odd numbers from 1 to n, n is given by the user.\n",
    "def sum_of_odd():\n",
    "    n=int(input(\"Enter the number\"))\n",
    "    sum=0\n",
    "    for i in range(1,n+1):\n",
    "        if(i%2!=0):\n",
    "            sum=sum+i\n",
    "    print(f\"Sum of odd numbers from {1} to {n} is\",sum)\n",
    "\n",
    "sum_of_odd()"
   ]
  },
  {
   "cell_type": "code",
   "execution_count": 58,
   "metadata": {},
   "outputs": [
    {
     "name": "stdout",
     "output_type": "stream",
     "text": [
      "Sum of Prime numbers from 1 to 5 are: 10\n"
     ]
    }
   ],
   "source": [
    "#Assingment 6.2: WAP using function that add all prime numbers from 1 to n, n given by the user.\n",
    "def sum_of_prime(n):\n",
    "    sum=0\n",
    "    for i in range(1,n+1):\n",
    "        count=0\n",
    "        for j in range(1,i+1):\n",
    "            if(i%j==0):\n",
    "                count=count+1\n",
    "        if(count==2):\n",
    "            sum=sum+i\n",
    "    return sum\n",
    "\n",
    "\n",
    "n=int(input(\"Enter the number\"))\n",
    "print(f\"Sum of Prime numbers from 1 to {n} are:\",sum_of_prime(n))"
   ]
  }
 ],
 "metadata": {
  "kernelspec": {
   "display_name": "Python 3",
   "language": "python",
   "name": "python3"
  },
  "language_info": {
   "codemirror_mode": {
    "name": "ipython",
    "version": 3
   },
   "file_extension": ".py",
   "mimetype": "text/x-python",
   "name": "python",
   "nbconvert_exporter": "python",
   "pygments_lexer": "ipython3",
   "version": "3.13.1"
  }
 },
 "nbformat": 4,
 "nbformat_minor": 2
}
