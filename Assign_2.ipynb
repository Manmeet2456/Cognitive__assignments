{
 "cells": [
  {
   "cell_type": "code",
   "execution_count": 5,
   "id": "48e9745d-e78b-4ba9-9f76-7c16ed505fa7",
   "metadata": {},
   "outputs": [
    {
     "name": "stdout",
     "output_type": "stream",
     "text": [
      "[20, 30, 40, 50, 60, 70, 80, 200]\n",
      "[200, 80, 70, 60, 50, 40, 30, 20]\n"
     ]
    }
   ],
   "source": [
    "l=[10,20,30,40,50,60,70,80]\n",
    "l.append(200)\n",
    "l.append(30)\n",
    "l.remove(10)\n",
    "l.remove(30)\n",
    "l.sort()\n",
    "print(l)\n",
    "l.sort(reverse=True)\n",
    "print(l)"
   ]
  },
  {
   "cell_type": "code",
   "execution_count": 90,
   "id": "7cbb07cd-e59e-4593-af95-73ce600406fe",
   "metadata": {},
   "outputs": [
    {
     "name": "stdout",
     "output_type": "stream",
     "text": [
      "(45, 89.5, 76, 45.4, 89, 92, 58, 45)\n",
      "92 ïndex= 5\n",
      "45 ïndex= 0\n",
      "2\n",
      "[92, 89.5, 89, 76, 58, 45.4, 45, 45]\n"
     ]
    },
    {
     "name": "stdout",
     "output_type": "stream",
     "text": [
      "enter the number 45\n"
     ]
    },
    {
     "name": "stdout",
     "output_type": "stream",
     "text": [
      "it is present\n"
     ]
    }
   ],
   "source": [
    "s=(45,89.5,76,45.4,89,92,58,45)\n",
    "print(s)\n",
    "print(max(s),\"ïndex=\",s.index(max(s)))\n",
    "print(min(s),\"ïndex=\",s.index(min(s)))\n",
    "print(s.count(min(s)))\n",
    "l=list(s)\n",
    "l.sort(reverse=True)\n",
    "\n",
    "print(l)\n",
    "a=int(input(\"enter the number\"))\n",
    "if(a in s !=-1):\n",
    "    print(\"it is present\")\n",
    "else:\n",
    "    print(\"it is not\")"
   ]
  },
  {
   "cell_type": "code",
   "execution_count": 6,
   "id": "0de7aca6-ad83-40bb-adc1-c83ecc294d90",
   "metadata": {},
   "outputs": [
    {
     "name": "stdout",
     "output_type": "stream",
     "text": [
      "[885, 288, 700, 455, 577, 745, 410, 872, 385, 727, 215, 757, 885, 575, 410, 316, 242, 695, 154, 812, 639, 536, 281, 327, 287, 104, 256, 186, 878, 343, 809, 322, 461, 357, 590, 357, 155, 385, 603, 475, 678, 316, 854, 292, 100, 340, 596, 554, 660, 500, 702, 785, 441, 186, 436, 897, 163, 851, 772, 655, 725, 194, 402, 204, 298, 133, 169, 316, 870, 243, 881, 224, 698, 583, 237, 341, 578, 712, 123, 451, 668, 234, 596, 246, 243, 486, 417, 869, 204, 692, 737, 732, 580, 826, 888, 567, 422, 281, 153, 828]\n",
      "ODD NUMBERS:\n",
      "885 455 577 745 385 727 215 757 885 575 695 639 281 327 287 343 809 461 357 357 155 385 603 475 785 441 897 163 851 655 725 133 169 243 881 583 237 341 123 451 243 417 869 737 567 281 153 \n",
      "EVEN NUMBERS:\n",
      "288 700 410 872 410 316 242 154 812 536 104 256 186 878 322 590 678 316 854 292 100 340 596 554 660 500 702 186 436 772 194 402 204 298 316 870 224 698 578 712 668 234 596 246 486 204 692 732 580 826 888 422 828 \n",
      "PRIME NUMBERS:\n",
      "577 727 757 281 809 461 163 881 281 \n",
      "LENGTH OF L:\n",
      "100\n"
     ]
    }
   ],
   "source": [
    "import random\n",
    "l=[]\n",
    "for i in range(0,100):\n",
    "    l.append(random.randint(100, 901))\n",
    "print(l)\n",
    "print(\"odd numbers:\".upper())\n",
    "for i in l:\n",
    "    if(i%2!=0):\n",
    "        print(i,end=\" \")\n",
    "print(\"\\neven numbers:\".upper())\n",
    "for i in l:\n",
    "    if(i%2==0):\n",
    "        print(i,end=\" \")\n",
    "print(\"\\nprime numbers:\".upper())\n",
    "for i in l:\n",
    "    count=0\n",
    "    for j in range(1,i+1):\n",
    "        if(i%j==0):\n",
    "            count=count+1\n",
    "    if(count==2):\n",
    "        print(i,end=\" \")\n",
    "print(\"\\nlength of l:\".upper())\n",
    "print(len(l))\n"
   ]
  },
  {
   "cell_type": "code",
   "execution_count": 11,
   "id": "739b70e3",
   "metadata": {},
   "outputs": [
    {
     "name": "stdout",
     "output_type": "stream",
     "text": [
      "Unique score achieved by both teams {34, 45, 78, 23, 56, 90}\n",
      "Scores that are common to both teams {90, 78}\n",
      "scores that are exclusive to A team {56, 34}\n",
      "scores that are exclusive to B team {45, 23}\n",
      "A scores is a subset of B:  False\n",
      "B scores superset of A scores:  False\n",
      "Score deleted successfully\n",
      "{56, 90, 78}\n"
     ]
    }
   ],
   "source": [
    "A = {34, 56, 78, 90} \n",
    "B = {78, 45, 90, 23}\n",
    "print(\"Unique score achieved by both teams\",A.union(B))\n",
    "print(\"Scores that are common to both teams\",A.intersection(B))\n",
    "print(\"scores that are exclusive to A team\",A-B)\n",
    "print(\"scores that are exclusive to B team\",B-A)\n",
    "print(\"A scores is a subset of B: \",A.issubset(B))\n",
    "print(\"B scores superset of A scores: \",A.issuperset(B))\n",
    "x=int(input(\"Enter the score you want to remove from set A\"))\n",
    "if(x in A !=-1):\n",
    "    A.remove(x)\n",
    "    print(\"Score deleted successfully\")\n",
    "    print(A)\n",
    "else:\n",
    "    print(\"Entered score is not available in set A\")"
   ]
  },
  {
   "cell_type": "code",
   "execution_count": 23,
   "id": "70ff55fc",
   "metadata": {},
   "outputs": [
    {
     "name": "stdout",
     "output_type": "stream",
     "text": [
      "{'name': 'kelly', 'age': '25', 'salary': 8000, 'city': 'New york'}\n",
      "{'name': 'kelly', 'age': '25', 'salary': 8000, 'Location': 'New york'}\n"
     ]
    }
   ],
   "source": [
    "sample_dict= {\n",
    "    \"name\" : \"kelly\",\n",
    "    \"age\" : \"25\",\n",
    "    \"salary\" : 8000,\n",
    "    \"city\" : \"New york\"\n",
    "}\n",
    "print(sample_dict)\n",
    "sample_dict.pop(\"city\")\n",
    "sample_dict.update({\"Location\":\"New york\"})\n",
    "print(sample_dict)"
   ]
  }
 ],
 "metadata": {
  "kernelspec": {
   "display_name": "Python 3",
   "language": "python",
   "name": "python3"
  },
  "language_info": {
   "codemirror_mode": {
    "name": "ipython",
    "version": 3
   },
   "file_extension": ".py",
   "mimetype": "text/x-python",
   "name": "python",
   "nbconvert_exporter": "python",
   "pygments_lexer": "ipython3",
   "version": "3.13.1"
  }
 },
 "nbformat": 4,
 "nbformat_minor": 5
}
